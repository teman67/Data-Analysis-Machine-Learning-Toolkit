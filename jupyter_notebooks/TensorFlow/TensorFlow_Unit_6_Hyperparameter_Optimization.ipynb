{
 "cells": [
  {
   "cell_type": "code",
   "execution_count": null,
   "metadata": {},
   "outputs": [],
   "source": []
  },
  {
   "cell_type": "markdown",
   "metadata": {},
   "source": [
    "# TensorFlow - Unit 06 - Hyperparameter Optimization\n",
    "\n",
    "## <img width=\"3%\" height=\"3%\" align=\"top\"  src=\"https://codeinstitute.s3.amazonaws.com/predictive_analytics/jupyter_notebook_icons/Icon%202%20-%20Unit%20Objective.png\"> Unit Objectives\n",
    "\n",
    "* Understand the considerations when optimizing neural network's hyperparameters\n",
    "\n",
    "\n",
    "\n",
    "---\n",
    "\n",
    "## <img width=\"3%\" height=\"3%\" align=\"top\"  src=\"https://codeinstitute.s3.amazonaws.com/predictive_analytics/jupyter_notebook_icons/Icon%2010-%20Lesson%20Content.png\">  Unit 06 - Hyperparameter Optimization\n",
    "\n",
    "<img width=\"3%\" height=\"3%\" align=\"top\"  src=\"https://codeinstitute.s3.amazonaws.com/predictive_analytics/jupyter_notebook_icons/Icon%207-%20Note.png\"> In the Scikit Learn lesson, we covered in detail the approach and techniques for Hyperparameter Optimization using Conventional ML, by fitting multiple algorithms with multiple hyperparameters arrangements. \n",
    "* That allowed us to find the most suitable algorithm and its hyperparameter configuration to meet the performance criteria defined in our business problem.\n",
    "\n",
    "\n",
    "<img width=\"3%\" height=\"3%\" align=\"top\"  src=\"https://codeinstitute.s3.amazonaws.com/predictive_analytics/jupyter_notebook_icons/Icon%207-%20Note.png\"> What should I consider when optimizing my neural network hyperparameters?\n",
    "* As you have seen, neural networks are constructed using a set of parameters and hyperparameters. Therefore, you will need to set them when designing your network.\n",
    "* The truth is that you don't know which arrangement will be the best for your dataset, considering the technical performance you want to meet and the time it takes to train your model. \n",
    "* This process of finding the best hyperparameter will typically involve a lot of trial and error. We presented in the previous unit a few guidelines and rules of thumb when designing a neural network that can also guide your criteria when optimizing your neural network's hyperparameters. \n",
    "\n",
    "\n",
    "\n",
    "---\n",
    "\n",
    "<img width=\"3%\" height=\"3%\" align=\"top\"  src=\" https://codeinstitute.s3.amazonaws.com/predictive_analytics/jupyter_notebook_icons/Challenge%20test.png\n",
    "\"> Examples of hyperparameters we covered in this lesson:\n",
    "* Loss function, optimizer, metrics, activation function, model architecture (number of hidden layers and its respective amount of neurons in each layer), dropout rate, CNN filter etc.\n",
    "\n",
    "\n",
    "<img width=\"3%\" height=\"3%\" align=\"top\"  src=\"https://codeinstitute.s3.amazonaws.com/predictive_analytics/jupyter_notebook_icons/Icon%206%20-%20Warning.png\"> We are not covering Hyperparameter Optimization in TensorFlow in this course due to its scope. However, we want to give you a brief overview of the topic to encourage you to explore it yourself over your data practitioner career. \n",
    "* We suggest this [documentation](https://www.tensorflow.org/tutorials/keras/keras_tuner) that has an introduction for hyperparameters optimization in TensorFlow. We encourage you to read it when you find some free time.\n",
    "\n",
    "---"
   ]
  },
  {
   "cell_type": "markdown",
   "metadata": {},
   "source": []
  }
 ],
 "metadata": {
  "language_info": {
   "name": "python"
  }
 },
 "nbformat": 4,
 "nbformat_minor": 2
}
